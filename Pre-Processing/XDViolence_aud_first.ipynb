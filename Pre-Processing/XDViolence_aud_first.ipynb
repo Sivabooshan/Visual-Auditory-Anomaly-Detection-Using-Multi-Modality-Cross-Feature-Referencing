{
 "cells": [
  {
   "cell_type": "code",
   "execution_count": 1,
   "id": "32301646-6b04-4d66-b435-ac824be6cdc0",
   "metadata": {},
   "outputs": [],
   "source": [
    "import os\n",
    "import numpy as np\n",
    "import logging\n",
    "import gc\n",
    "import shutil\n",
    "from tqdm import tqdm\n",
    "import warnings\n",
    "import soundfile as sf\n",
    "import librosa\n",
    "import subprocess\n",
    "import pandas as pd\n",
    "import torchaudio\n",
    "\n",
    "warnings.filterwarnings(\"ignore\")"
   ]
  },
  {
   "cell_type": "code",
   "execution_count": 2,
   "id": "2a73bc29-9b0e-4212-ad49-78ae601eb33f",
   "metadata": {},
   "outputs": [],
   "source": [
    "# Configuration Constants\n",
    "CONFIG = {\n",
    "    'train_videos_list': r'F:\\SRC_Bhuvaneswari\\typpo\\Crimenet\\Annotations\\Videolist\\vtrainpadamlist.txt',\n",
    "    'test_videos_list': r'F:\\SRC_Bhuvaneswari\\typpo\\Crimenet\\Annotations\\Videolist\\vtestpadamlist.txt',\n",
    "    'train_videos_path': r'E:\\SRC-Bhuvaneswari\\VAD_XDViolence\\ViVi\\Dataset\\XD Violence\\Train',\n",
    "    'test_videos_path': r'E:\\SRC-Bhuvaneswari\\VAD_XDViolence\\ViVi\\Dataset\\XD Violence\\Test',\n",
    "    'train_save_path': r'E:\\SRC-Bhuvaneswari\\processed files\\audio\\ftrain',\n",
    "    'test_save_path': r'E:\\SRC-Bhuvaneswari\\processed files\\audio\\ftest',\n",
    "    'logs': r'F:\\SRC_Bhuvaneswari\\typpo\\Crimenet\\Utilities\\logs\\XDViolence_aud_first.log',\n",
    "    'num_train_videos': 4264,\n",
    "    'num_test_videos': 486,\n",
    "    'n_train': 320,     # Limit for training videos per label\n",
    "    'n_test': 80,      # Limit for testing videos per label\n",
    "    'sample_rate': 16000,\n",
    "    'segment_duration' : 60  # Set the desired duration (in seconds) for each audio segment\n",
    "}\n",
    "\n",
    "LABEL_MAP = {'Normal': 0, 'Abuse': 1, 'Explosion': 2, 'Fighting': 3, 'Car Accident': 4, 'Shooting': 5, 'Riot': 6}\n",
    "XD_LABEL_MAP = {'A': 'Normal', 'B1': 'Fighting', 'B2': 'Shooting', 'B4': 'Riot', 'B5': 'Abuse', 'B6': 'Car Accident', 'G': 'Explosion'}"
   ]
  },
  {
   "cell_type": "code",
   "execution_count": 3,
   "id": "52c37b93-557a-4a74-8261-9fc1f7a850aa",
   "metadata": {},
   "outputs": [],
   "source": [
    "def configure_logging(log_path):\n",
    "    if os.path.exists(log_path):\n",
    "        os.remove(log_path)\n",
    "    logging.basicConfig(filename=log_path, level=logging.INFO, format='%(asctime)s - %(levelname)s - %(message)s')\n",
    "    logging.info(\"Logging configured.\")"
   ]
  },
  {
   "cell_type": "code",
   "execution_count": 4,
   "id": "99d9948f-487b-4460-a4d9-59c8425dc552",
   "metadata": {},
   "outputs": [],
   "source": [
    "def assign_labels(video_name):\n",
    "    label_code = video_name.split('_label_')[1].replace('.mp4', '')\n",
    "    raw_labels = label_code.split('-')\n",
    "    primary_event_name = XD_LABEL_MAP.get(raw_labels[0], 'Normal')\n",
    "    return LABEL_MAP.get(primary_event_name, 0)"
   ]
  },
  {
   "cell_type": "code",
   "execution_count": 5,
   "id": "2d273b71-3bf7-4ebd-8dfc-64992afbd989",
   "metadata": {},
   "outputs": [],
   "source": [
    "def extract_audio_from_video(video_path, save_path, file_name, segment_duration):\n",
    "    audio_file_path = os.path.join(save_path, f\"{file_name}.wav\")\n",
    "\n",
    "    # Define the FFMPEG command to extract audio as a standard WAV\n",
    "    command = [\n",
    "        'ffmpeg', '-y', '-i', video_path,\n",
    "        '-ac', '1',\n",
    "        '-ar', str(CONFIG['sample_rate']),\n",
    "        '-acodec', 'pcm_s16le',\n",
    "        audio_file_path\n",
    "    ]\n",
    "\n",
    "    try:\n",
    "        logging.info(f\"Extracting audio from {video_path} to {audio_file_path}\")\n",
    "        with open(os.devnull, 'w') as fnull:\n",
    "            subprocess.run(command, stdout=fnull, stderr=subprocess.STDOUT, check=True)\n",
    "\n",
    "        if os.path.exists(audio_file_path):\n",
    "            try:\n",
    "                # Load the audio and segment it\n",
    "                waveform, sample_rate = torchaudio.load(audio_file_path)\n",
    "                segment_samples = int(segment_duration * sample_rate)\n",
    "                num_segments = int(np.ceil(waveform.shape[1] / segment_samples))\n",
    "\n",
    "                part_paths = []\n",
    "                for part_num in range(num_segments):\n",
    "                    start = part_num * segment_samples\n",
    "                    end = min((part_num + 1) * segment_samples, waveform.shape[1])\n",
    "                    segment_waveform = waveform[:, start:end]\n",
    "\n",
    "                    # Save each segment with an updated filename\n",
    "                    part_file_name = f\"{file_name}_Part_{part_num+1}\"\n",
    "                    part_file_path = os.path.join(save_path, f\"{part_file_name}.wav\")\n",
    "                    torchaudio.save(part_file_path, segment_waveform, sample_rate)\n",
    "                    part_paths.append(part_file_path)\n",
    "                    logging.info(f\"Saved audio segment: {part_file_path}\")\n",
    "\n",
    "                # Clean up the full extracted audio if not needed\n",
    "                os.remove(audio_file_path)\n",
    "\n",
    "                return part_paths\n",
    "\n",
    "            except Exception as e:\n",
    "                logging.error(f\"Failed to process audio segments: {e}\")\n",
    "                return []\n",
    "        else:\n",
    "            logging.error(f\"Failed to create audio file at {audio_file_path}\")\n",
    "            return []\n",
    "    \n",
    "    except subprocess.CalledProcessError as e:\n",
    "        logging.error(f\"Error extracting audio from {video_path}: {e}\")\n",
    "        return []"
   ]
  },
  {
   "cell_type": "code",
   "execution_count": 6,
   "id": "5bd17f22-82dc-4987-91e6-fa5c8be4e7f2",
   "metadata": {},
   "outputs": [],
   "source": [
    "def save_audio_with_labels(video_name, video_path, save_path, label, file_list, label_counters, n, segment_duration, processed_videos):\n",
    "    if label == LABEL_MAP['Abuse']:\n",
    "        logging.info(f\"Skipping video {video_name} with label 'Abuse'\")\n",
    "        return\n",
    "    if label_counters[label] >= n:\n",
    "        return\n",
    "    if video_name in processed_videos[label]:  # Skip already processed videos\n",
    "        logging.info(f\"Skipping duplicate video {video_name} for label {label}\")\n",
    "        return\n",
    "    if not os.path.exists(video_path):\n",
    "        logging.warning(f\"Video file {video_name} does not exist, skipping.\")\n",
    "        return\n",
    "    \n",
    "    base_name = os.path.splitext(video_name)[0]\n",
    "    audio_file_name = f\"{base_name}_label_{label}\"\n",
    "    audio_segment_paths = extract_audio_from_video(video_path, save_path, audio_file_name, segment_duration)\n",
    "    \n",
    "    # Add all segments to the file list\n",
    "    for part_num, audio_file_path in enumerate(audio_segment_paths):\n",
    "        part_file_name = os.path.basename(audio_file_path)\n",
    "        file_list.append((part_file_name, audio_file_path, label))\n",
    "    \n",
    "    # Mark the video as processed\n",
    "    label_counters[label] += 1\n",
    "    processed_videos[label].add(video_name)  # Track processed video\n",
    "\n",
    "    if label_counters[label] == n:\n",
    "        print(f\"{list(LABEL_MAP.keys())[list(LABEL_MAP.values()).index(label)]} finish\")"
   ]
  },
  {
   "cell_type": "code",
   "execution_count": 7,
   "id": "86fbe23e-012a-43c4-9856-3f123eabaab4",
   "metadata": {},
   "outputs": [],
   "source": [
    "def delete_all_files(directory_path):\n",
    "    try:\n",
    "        for item in os.listdir(directory_path):\n",
    "            item_path = os.path.join(directory_path, item)\n",
    "            if os.path.isfile(item_path):\n",
    "                os.remove(item_path)\n",
    "                logging.info(f\"Deleted file: {item}\")\n",
    "            elif os.path.isdir(item_path):\n",
    "                shutil.rmtree(item_path)\n",
    "                logging.info(f\"Deleted folder: {item}\")\n",
    "            else:\n",
    "                logging.error(f\"{item} is neither a file nor a folder, skipping.\")\n",
    "        logging.info(\"All files and folders deleted successfully.\")\n",
    "    except Exception as e:\n",
    "        logging.error(f\"An error occurred while deleting files and folders: {e}\")"
   ]
  },
  {
   "cell_type": "code",
   "execution_count": 8,
   "id": "c9c89b96-4937-4199-86b5-397c92a68cb9",
   "metadata": {},
   "outputs": [],
   "source": [
    "def main():\n",
    "    configure_logging(CONFIG['logs'])\n",
    "    delete_all_files(CONFIG['train_save_path'])\n",
    "    delete_all_files(CONFIG['test_save_path'])\n",
    "    label_counters_train = {label: 0 for label in LABEL_MAP.values()}\n",
    "    label_counters_test = {label: 0 for label in LABEL_MAP.values()}\n",
    "    processed_videos_train = {label: set() for label in LABEL_MAP.values()}\n",
    "    processed_videos_test = {label: set() for label in LABEL_MAP.values()}\n",
    "    train_data, test_data = [], []\n",
    "\n",
    "    with open(CONFIG['train_videos_list'], 'r') as f:\n",
    "        train_video_files = [line.strip() for line in f.readlines()][:CONFIG['num_train_videos']]\n",
    "    with open(CONFIG['test_videos_list'], 'r') as f:\n",
    "        test_video_files = [line.strip() for line in f.readlines()][:CONFIG['num_test_videos']]\n",
    "\n",
    "    logging.info(f\"Processing {len(train_video_files)} training videos and {len(test_video_files)} testing videos.\")\n",
    "    \n",
    "    for video_name in tqdm(train_video_files, desc=\"Processing train videos\"):\n",
    "        video_path = os.path.join(CONFIG['train_videos_path'], video_name)\n",
    "        label = assign_labels(video_name)\n",
    "        save_audio_with_labels(\n",
    "            video_name, video_path, CONFIG['train_save_path'], label, \n",
    "            train_data, label_counters_train, CONFIG['n_train'], \n",
    "            CONFIG['segment_duration'], processed_videos_train\n",
    "        )\n",
    "\n",
    "    for video_name in tqdm(test_video_files, desc=\"Processing test videos\"):\n",
    "        video_path = os.path.join(CONFIG['test_videos_path'], video_name)\n",
    "        label = assign_labels(video_name)\n",
    "        save_audio_with_labels(\n",
    "            video_name, video_path, CONFIG['test_save_path'], label, \n",
    "            test_data, label_counters_test, CONFIG['n_test'], \n",
    "            CONFIG['segment_duration'], processed_videos_test\n",
    "        )\n",
    "\n",
    "    train_data = [(name, path.replace('\\\\', '/'), label) for name, path, label in train_data]\n",
    "    test_data = [(name, path.replace('\\\\', '/'), label) for name, path, label in test_data]\n",
    "\n",
    "    train_df = pd.DataFrame(train_data, columns=['audio', 'path', 'label'])\n",
    "    test_df = pd.DataFrame(test_data, columns=['audio', 'path', 'label'])\n",
    "    train_csv_path = os.path.join(CONFIG['train_save_path'], 'train_audio_labels.csv')\n",
    "    test_csv_path = os.path.join(CONFIG['test_save_path'], 'test_audio_labels.csv')\n",
    "\n",
    "    train_df.to_csv(train_csv_path, index=False)\n",
    "    test_df.to_csv(test_csv_path, index=False)\n",
    "    logging.info(f\"Saved Train and Test DataFrames to {train_csv_path} and {test_csv_path}\")\n",
    "    print(\"\\nFinished saving Train and Test audio with labels.\")"
   ]
  },
  {
   "cell_type": "code",
   "execution_count": null,
   "id": "c7bb3f06-5c9e-4071-baa3-77194d21aa9c",
   "metadata": {},
   "outputs": [
    {
     "name": "stderr",
     "output_type": "stream",
     "text": [
      "Processing train videos:  13%|██████▉                                               | 545/4264 [03:14<16:54,  3.67it/s]"
     ]
    },
    {
     "name": "stdout",
     "output_type": "stream",
     "text": [
      "Normal finish\n"
     ]
    },
    {
     "name": "stderr",
     "output_type": "stream",
     "text": [
      "Processing train videos:  19%|██████████▏                                           | 809/4264 [03:46<06:27,  8.91it/s]"
     ]
    }
   ],
   "source": [
    "if __name__ == \"__main__\":\n",
    "    main()"
   ]
  },
  {
   "cell_type": "code",
   "execution_count": null,
   "id": "2c49eb8c-f71c-402d-bfec-caeb2d3b5b08",
   "metadata": {},
   "outputs": [],
   "source": []
  }
 ],
 "metadata": {
  "kernelspec": {
   "display_name": "ViVi",
   "language": "python",
   "name": "vivi"
  },
  "language_info": {
   "codemirror_mode": {
    "name": "ipython",
    "version": 3
   },
   "file_extension": ".py",
   "mimetype": "text/x-python",
   "name": "python",
   "nbconvert_exporter": "python",
   "pygments_lexer": "ipython3",
   "version": "3.12.3"
  }
 },
 "nbformat": 4,
 "nbformat_minor": 5
}

{
 "cells": [
  {
   "cell_type": "code",
   "execution_count": 1,
   "id": "25db4e1a-6a9f-4023-8153-a313543603bc",
   "metadata": {},
   "outputs": [],
   "source": [
    "import os\n",
    "import numpy as np\n",
    "import logging\n",
    "import subprocess\n",
    "import pandas as pd\n",
    "import torchaudio\n",
    "import torch\n",
    "from tqdm import tqdm\n",
    "import warnings\n",
    "\n",
    "warnings.filterwarnings(\"ignore\")\n",
    "\n",
    "# Configuration Constants\n",
    "CONFIG = {\n",
    "    'train_videos_list': r'F:\\SRC_Bhuvaneswari\\typpo\\Crimenet\\Annotations\\Videolist\\vtrainpadamlist.txt',\n",
    "    'test_videos_list': r'F:\\SRC_Bhuvaneswari\\typpo\\Crimenet\\Annotations\\Videolist\\vtestpadamlist.txt',\n",
    "    'train_videos_path': r'E:\\SRC-Bhuvaneswari\\VAD_XDViolence\\ViVi\\Dataset\\XD Violence\\Train',\n",
    "    'test_videos_path': r'E:\\SRC-Bhuvaneswari\\VAD_XDViolence\\ViVi\\Dataset\\XD Violence\\Test',\n",
    "    'train_save_path': r'E:\\SRC-Bhuvaneswari\\processed files\\audio\\ftrain',\n",
    "    'test_save_path': r'E:\\SRC-Bhuvaneswari\\processed files\\audio\\ftest',\n",
    "    'logs': r'F:\\SRC_Bhuvaneswari\\typpo\\Crimenet\\Utilities\\logs\\XDViolence_aud_first.log',\n",
    "    'num_train_videos': 4264,\n",
    "    'num_test_videos': 486,\n",
    "    'n_train': 320,  # Limit for training videos per label\n",
    "    'n_test': 80,  # Limit for testing videos per label\n",
    "    'sample_rate': 16000,\n",
    "    'segment_duration': 15  # Set to 15 seconds to match MAX_AUDIO_LENGTH in wav2vec2.py\n",
    "}\n",
    "\n",
    "LABEL_MAP = {'Normal': 0, 'Abuse': 1, 'Explosion': 2, 'Fighting': 3, 'Car Accident': 4, 'Shooting': 5, 'Riot': 6}\n",
    "XD_LABEL_MAP = {'A': 'Normal', 'B1': 'Fighting', 'B2': 'Shooting', 'B4': 'Riot', 'B5': 'Abuse', 'B6': 'Car Accident', 'G': 'Explosion'}"
   ]
  },
  {
   "cell_type": "code",
   "execution_count": 2,
   "id": "7e913af2-a6e3-41fd-9e98-61cf56ed10a2",
   "metadata": {},
   "outputs": [],
   "source": [
    "def configure_logging(log_path):\n",
    "    if os.path.exists(log_path):\n",
    "        os.remove(log_path)\n",
    "    logging.basicConfig(filename=log_path, level=logging.INFO, format='%(asctime)s - %(levelname)s - %(message)s')\n",
    "    logging.info(\"Logging configured.\")"
   ]
  },
  {
   "cell_type": "code",
   "execution_count": 3,
   "id": "6dabcbf9-20ec-4f03-977e-2076d62514cd",
   "metadata": {},
   "outputs": [],
   "source": [
    "def assign_labels(video_name):\n",
    "    label_code = video_name.split('_label_')[1].replace('.mp4', '')\n",
    "    raw_labels = label_code.split('-')\n",
    "    primary_event_name = XD_LABEL_MAP.get(raw_labels[0], 'Normal')\n",
    "    return LABEL_MAP.get(primary_event_name, 0)"
   ]
  },
  {
   "cell_type": "code",
   "execution_count": 4,
   "id": "a2af32d2-52d6-4ba0-9527-e585b706f780",
   "metadata": {},
   "outputs": [],
   "source": [
    "def extract_audio_from_video(video_path, save_path, file_name, segment_duration):\n",
    "    audio_file_path = os.path.join(save_path, f\"{file_name}.wav\")\n",
    "    command = [\n",
    "        'ffmpeg', '-y', '-i', video_path,\n",
    "        '-ac', '1',\n",
    "        '-ar', str(CONFIG['sample_rate']),\n",
    "        '-acodec', 'pcm_s16le',\n",
    "        audio_file_path\n",
    "    ]\n",
    "    \n",
    "    try:\n",
    "        logging.info(f\"Extracting audio from {video_path} to {audio_file_path}\")\n",
    "        subprocess.run(command, stdout=subprocess.DEVNULL, stderr=subprocess.STDOUT, check=True)\n",
    "        \n",
    "        if os.path.exists(audio_file_path):\n",
    "            waveform, sample_rate = torchaudio.load(audio_file_path)\n",
    "            segment_samples = int(segment_duration * sample_rate)\n",
    "            num_segments = int(np.ceil(waveform.shape[1] / segment_samples))\n",
    "            part_paths = []\n",
    "            \n",
    "            for part_num in range(num_segments):\n",
    "                start = part_num * segment_samples\n",
    "                end = min((part_num + 1) * segment_samples, waveform.shape[1])\n",
    "                segment_waveform = waveform[:, start:end]\n",
    "                \n",
    "                # Apply energy-based segmentation\n",
    "                energy = torch.sum(segment_waveform**2, dim=0)\n",
    "                threshold = torch.mean(energy) * 1.5\n",
    "                high_energy_indices = torch.where(energy > threshold)[0]\n",
    "                \n",
    "                if len(high_energy_indices) > 0:\n",
    "                    start_idx = max(0, high_energy_indices[0] - 1000)  # 1000 samples buffer\n",
    "                    end_idx = min(segment_waveform.shape[1], high_energy_indices[-1] + 1000)\n",
    "                    segment_waveform = segment_waveform[:, start_idx:end_idx]\n",
    "                \n",
    "                part_file_name = f\"{file_name}_Part_{part_num+1}\"\n",
    "                part_file_path = os.path.join(save_path, f\"{part_file_name}.wav\")\n",
    "                torchaudio.save(part_file_path, segment_waveform, sample_rate)\n",
    "                part_paths.append(part_file_path)\n",
    "                logging.info(f\"Saved audio segment: {part_file_path}\")\n",
    "            \n",
    "            os.remove(audio_file_path)\n",
    "            return part_paths\n",
    "        else:\n",
    "            logging.error(f\"Failed to create audio file at {audio_file_path}\")\n",
    "            return []\n",
    "    except subprocess.CalledProcessError as e:\n",
    "        logging.error(f\"Error extracting audio from {video_path}: {e}\")\n",
    "        return []"
   ]
  },
  {
   "cell_type": "code",
   "execution_count": 5,
   "id": "04089d4d-6820-45a4-8d1c-f0e8733d0334",
   "metadata": {},
   "outputs": [],
   "source": [
    "def save_audio_with_labels(video_name, video_path, save_path, label, file_list, label_counters, n, segment_duration, processed_videos):\n",
    "    if label == LABEL_MAP['Abuse']:\n",
    "        logging.info(f\"Skipping video {video_name} with label 'Abuse'\")\n",
    "        return\n",
    "    \n",
    "    if label_counters[label] >= n:\n",
    "        return\n",
    "    \n",
    "    if video_name in processed_videos[label]:\n",
    "        logging.info(f\"Skipping duplicate video {video_name} for label {label}\")\n",
    "        return\n",
    "    \n",
    "    if not os.path.exists(video_path):\n",
    "        logging.warning(f\"Video file {video_name} does not exist, skipping.\")\n",
    "        return\n",
    "    \n",
    "    base_name = os.path.splitext(video_name)[0]\n",
    "    audio_file_name = f\"{base_name}_label_{label}\"\n",
    "    audio_segment_paths = extract_audio_from_video(video_path, save_path, audio_file_name, segment_duration)\n",
    "    \n",
    "    for audio_file_path in audio_segment_paths:\n",
    "        part_file_name = os.path.basename(audio_file_path)\n",
    "        file_list.append((part_file_name, audio_file_path, label))\n",
    "    \n",
    "    label_counters[label] += 1\n",
    "    processed_videos[label].add(video_name)\n",
    "    \n",
    "    if label_counters[label] == n:\n",
    "        print(f\"Processing '{list(LABEL_MAP.keys())[list(LABEL_MAP.values()).index(label)]}' complete\")"
   ]
  },
  {
   "cell_type": "code",
   "execution_count": 6,
   "id": "4839aa3c-b15a-4e17-aab2-c33ba4c8bdfb",
   "metadata": {},
   "outputs": [],
   "source": [
    "def main():\n",
    "    configure_logging(CONFIG['logs'])\n",
    "    \n",
    "    label_counters_train = {label: 0 for label in LABEL_MAP.values()}\n",
    "    label_counters_test = {label: 0 for label in LABEL_MAP.values()}\n",
    "    processed_videos_train = {label: set() for label in LABEL_MAP.values()}\n",
    "    processed_videos_test = {label: set() for label in LABEL_MAP.values()}\n",
    "    \n",
    "    train_data, test_data = [], []\n",
    "    \n",
    "    with open(CONFIG['train_videos_list'], 'r') as f:\n",
    "        train_video_files = [line.strip() for line in f.readlines()][:CONFIG['num_train_videos']]\n",
    "    \n",
    "    with open(CONFIG['test_videos_list'], 'r') as f:\n",
    "        test_video_files = [line.strip() for line in f.readlines()][:CONFIG['num_test_videos']]\n",
    "    \n",
    "    logging.info(f\"Processing {len(train_video_files)} training videos and {len(test_video_files)} testing videos.\")\n",
    "    \n",
    "    for video_name in tqdm(train_video_files, desc=\"Processing train videos\"):\n",
    "        video_path = os.path.join(CONFIG['train_videos_path'], video_name)\n",
    "        label = assign_labels(video_name)\n",
    "        save_audio_with_labels(\n",
    "            video_name, video_path, CONFIG['train_save_path'], label,\n",
    "            train_data, label_counters_train, CONFIG['n_train'],\n",
    "            CONFIG['segment_duration'], processed_videos_train\n",
    "        )\n",
    "    \n",
    "    for video_name in tqdm(test_video_files, desc=\"Processing test videos\"):\n",
    "        video_path = os.path.join(CONFIG['test_videos_path'], video_name)\n",
    "        label = assign_labels(video_name)\n",
    "        save_audio_with_labels(\n",
    "            video_name, video_path, CONFIG['test_save_path'], label,\n",
    "            test_data, label_counters_test, CONFIG['n_test'],\n",
    "            CONFIG['segment_duration'], processed_videos_test\n",
    "        )\n",
    "    \n",
    "    train_data = [(name, path.replace('\\\\', '/'), label) for name, path, label in train_data]\n",
    "    test_data = [(name, path.replace('\\\\', '/'), label) for name, path, label in test_data]\n",
    "    \n",
    "    train_df = pd.DataFrame(train_data, columns=['audio', 'path', 'label'])\n",
    "    test_df = pd.DataFrame(test_data, columns=['audio', 'path', 'label'])\n",
    "    \n",
    "    train_csv_path = os.path.join(CONFIG['train_save_path'], 'train_audio_labels.csv')\n",
    "    test_csv_path = os.path.join(CONFIG['test_save_path'], 'test_audio_labels.csv')\n",
    "    \n",
    "    train_df.to_csv(train_csv_path, index=False)\n",
    "    test_df.to_csv(test_csv_path, index=False)\n",
    "    \n",
    "    logging.info(f\"Saved Train and Test DataFrames to {train_csv_path} and {test_csv_path}\")\n",
    "    print(\"\\nFinished saving Train and Test audio with labels.\")"
   ]
  },
  {
   "cell_type": "code",
   "execution_count": 7,
   "id": "e159b618-204d-4771-b848-807f2e74449a",
   "metadata": {},
   "outputs": [
    {
     "name": "stderr",
     "output_type": "stream",
     "text": [
      "Processing train videos:  13%|██████▉                                               | 545/4264 [03:13<16:27,  3.76it/s]"
     ]
    },
    {
     "name": "stdout",
     "output_type": "stream",
     "text": [
      "Processing 'Normal' complete\n"
     ]
    },
    {
     "name": "stderr",
     "output_type": "stream",
     "text": [
      "Processing train videos:  75%|███████████████████████████████████████▋             | 3197/4264 [08:53<01:18, 13.52it/s]"
     ]
    },
    {
     "name": "stdout",
     "output_type": "stream",
     "text": [
      "Processing 'Fighting' complete\n"
     ]
    },
    {
     "name": "stderr",
     "output_type": "stream",
     "text": [
      "Processing train videos:  82%|███████████████████████████████████████████▋         | 3512/4264 [09:20<01:19,  9.43it/s]"
     ]
    },
    {
     "name": "stdout",
     "output_type": "stream",
     "text": [
      "Processing 'Car Accident' complete\n"
     ]
    },
    {
     "name": "stderr",
     "output_type": "stream",
     "text": [
      "Processing train videos:  83%|███████████████████████████████████████████▊         | 3520/4264 [09:22<02:11,  5.65it/s]"
     ]
    },
    {
     "name": "stdout",
     "output_type": "stream",
     "text": [
      "Processing 'Riot' complete\n"
     ]
    },
    {
     "name": "stderr",
     "output_type": "stream",
     "text": [
      "Processing train videos:  96%|███████████████████████████████████████████████████  | 4110/4264 [09:42<00:12, 12.59it/s]"
     ]
    },
    {
     "name": "stdout",
     "output_type": "stream",
     "text": [
      "Processing 'Shooting' complete\n"
     ]
    },
    {
     "name": "stderr",
     "output_type": "stream",
     "text": [
      "Processing train videos: 100%|█████████████████████████████████████████████████████| 4264/4264 [09:46<00:00,  7.26it/s]\n",
      "Processing test videos:  67%|█████████████████████████████████████▎                  | 324/486 [01:25<00:24,  6.63it/s]"
     ]
    },
    {
     "name": "stdout",
     "output_type": "stream",
     "text": [
      "Processing 'Fighting' complete\n"
     ]
    },
    {
     "name": "stderr",
     "output_type": "stream",
     "text": [
      "Processing test videos:  80%|████████████████████████████████████████████▋           | 388/486 [01:38<00:18,  5.18it/s]"
     ]
    },
    {
     "name": "stdout",
     "output_type": "stream",
     "text": [
      "Processing 'Riot' complete\n"
     ]
    },
    {
     "name": "stderr",
     "output_type": "stream",
     "text": [
      "Processing test videos:  87%|████████████████████████████████████████████████▋       | 422/486 [01:42<00:07,  9.10it/s]"
     ]
    },
    {
     "name": "stdout",
     "output_type": "stream",
     "text": [
      "Processing 'Car Accident' complete\n"
     ]
    },
    {
     "name": "stderr",
     "output_type": "stream",
     "text": [
      "Processing test videos:  92%|███████████████████████████████████████████████████▋    | 449/486 [01:44<00:02, 17.53it/s]"
     ]
    },
    {
     "name": "stdout",
     "output_type": "stream",
     "text": [
      "Processing 'Explosion' complete\n"
     ]
    },
    {
     "name": "stderr",
     "output_type": "stream",
     "text": [
      "Processing test videos: 100%|████████████████████████████████████████████████████████| 486/486 [01:45<00:00,  4.63it/s]"
     ]
    },
    {
     "name": "stdout",
     "output_type": "stream",
     "text": [
      "Processing 'Shooting' complete\n"
     ]
    },
    {
     "name": "stderr",
     "output_type": "stream",
     "text": [
      "\n"
     ]
    },
    {
     "name": "stdout",
     "output_type": "stream",
     "text": [
      "\n",
      "Finished saving Train and Test audio with labels.\n"
     ]
    }
   ],
   "source": [
    "if __name__ == \"__main__\":\n",
    "    main()"
   ]
  },
  {
   "cell_type": "code",
   "execution_count": null,
   "id": "5a9a3a7a-3076-476a-ae33-a631de9669e0",
   "metadata": {},
   "outputs": [],
   "source": []
  }
 ],
 "metadata": {
  "kernelspec": {
   "display_name": "ViVi",
   "language": "python",
   "name": "vivi"
  },
  "language_info": {
   "codemirror_mode": {
    "name": "ipython",
    "version": 3
   },
   "file_extension": ".py",
   "mimetype": "text/x-python",
   "name": "python",
   "nbconvert_exporter": "python",
   "pygments_lexer": "ipython3",
   "version": "3.12.3"
  }
 },
 "nbformat": 4,
 "nbformat_minor": 5
}
